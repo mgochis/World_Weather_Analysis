{
 "cells": [
  {
   "cell_type": "code",
   "execution_count": 1,
   "id": "1c313b9b",
   "metadata": {},
   "outputs": [],
   "source": [
    "# Import the random module.\n",
    "import random"
   ]
  },
  {
   "cell_type": "code",
   "execution_count": 2,
   "id": "2e4a9003",
   "metadata": {},
   "outputs": [
    {
     "data": {
      "text/plain": [
       "85"
      ]
     },
     "execution_count": 2,
     "metadata": {},
     "output_type": "execute_result"
    }
   ],
   "source": [
    "random.randint(-90, 90)"
   ]
  },
  {
   "cell_type": "code",
   "execution_count": 3,
   "id": "15bb2042",
   "metadata": {},
   "outputs": [],
   "source": [
    "x = 1\n",
    "latitudes = []\n",
    "while x < 11:\n",
    "    random_lat = random.randint(-90, 89) + random.random()\n",
    "    latitudes.append(random_lat)\n",
    "    x += 1"
   ]
  },
  {
   "cell_type": "code",
   "execution_count": 4,
   "id": "55bed398",
   "metadata": {},
   "outputs": [
    {
     "data": {
      "text/plain": [
       "[12.492704092415506,\n",
       " 24.47144795742707,\n",
       " -64.0760636895258,\n",
       " -70.24400440062266,\n",
       " 15.697062401527544,\n",
       " -39.4746075796394,\n",
       " -46.83746304901232,\n",
       " 40.96804282215189,\n",
       " -6.054949836611346,\n",
       " -54.7074840182598]"
      ]
     },
     "execution_count": 4,
     "metadata": {},
     "output_type": "execute_result"
    }
   ],
   "source": [
    "latitudes"
   ]
  },
  {
   "cell_type": "code",
   "execution_count": 5,
   "id": "18d1f381",
   "metadata": {},
   "outputs": [
    {
     "data": {
      "text/plain": [
       "-80"
      ]
     },
     "execution_count": 5,
     "metadata": {},
     "output_type": "execute_result"
    }
   ],
   "source": [
    "random.randrange(-90, 90, step=10)"
   ]
  },
  {
   "cell_type": "code",
   "execution_count": 6,
   "id": "75303987",
   "metadata": {},
   "outputs": [],
   "source": [
    "# Import the NumPy module.\n",
    "import numpy as np"
   ]
  },
  {
   "cell_type": "code",
   "execution_count": 7,
   "id": "2e320e7e",
   "metadata": {},
   "outputs": [
    {
     "data": {
      "text/plain": [
       "-57.98659546330866"
      ]
     },
     "execution_count": 7,
     "metadata": {},
     "output_type": "execute_result"
    }
   ],
   "source": [
    "np.random.uniform(-90.000, 90.000)"
   ]
  },
  {
   "cell_type": "code",
   "execution_count": 8,
   "id": "955bcd18",
   "metadata": {},
   "outputs": [
    {
     "data": {
      "text/plain": [
       "array([-15.81159234,  86.70330661, -61.01327145,  15.67959096,\n",
       "       -85.25484235,  -0.8218124 ,  51.0206907 , -88.97271798,\n",
       "        68.43114698,  25.93298429,  16.40861405,  37.66240316,\n",
       "        53.46226129,  82.77806757, -66.51312282, -42.78489733,\n",
       "        82.25642931, -41.68504876,  59.85311582, -51.65724922,\n",
       "        36.94033889, -54.69452724, -62.73854263, -79.67231977,\n",
       "        63.43509215, -35.22629489, -51.02461168,  73.32225571,\n",
       "       -25.89479483, -37.59021536, -39.31330214,  33.41924468,\n",
       "        31.672837  , -37.65508846, -80.67443743, -20.01946839,\n",
       "        -0.19662515, -82.41559528,  63.78817239, -28.75308565,\n",
       "        69.1496435 ,  14.47736713,   4.36905293,  84.85435298,\n",
       "        12.50019795,  56.10624204, -69.19252808, -27.91865353,\n",
       "       -65.34392601,  78.53070196])"
      ]
     },
     "execution_count": 8,
     "metadata": {},
     "output_type": "execute_result"
    }
   ],
   "source": [
    "np.random.uniform(-90.000, 90.000, size=50)"
   ]
  },
  {
   "cell_type": "code",
   "execution_count": 9,
   "id": "03f661a4",
   "metadata": {},
   "outputs": [],
   "source": [
    "# Import timeit.\n",
    "import timeit"
   ]
  },
  {
   "cell_type": "code",
   "execution_count": 10,
   "id": "87a8c937",
   "metadata": {},
   "outputs": [
    {
     "name": "stdout",
     "output_type": "stream",
     "text": [
      "11.9 µs ± 329 ns per loop (mean ± std. dev. of 7 runs, 100000 loops each)\n"
     ]
    }
   ],
   "source": [
    "%timeit np.random.uniform(-90.000, 90.000, size=1500)"
   ]
  },
  {
   "cell_type": "code",
   "execution_count": 11,
   "id": "e18c84dc",
   "metadata": {},
   "outputs": [
    {
     "name": "stdout",
     "output_type": "stream",
     "text": [
      "1.25 ms ± 36.8 µs per loop (mean ± std. dev. of 7 runs, 1000 loops each)\n"
     ]
    }
   ],
   "source": [
    "def latitudes(size):\n",
    "    latitudes = []\n",
    "    x = 0\n",
    "    while x < (size):\n",
    "        random_lat = random.randint(-90, 90) + random.random()\n",
    "        latitudes.append(random_lat)\n",
    "        x += 1\n",
    "    return latitudes\n",
    "# Call the function with 1500.\n",
    "%timeit latitudes(1500)"
   ]
  },
  {
   "cell_type": "code",
   "execution_count": null,
   "id": "f20fcf1a",
   "metadata": {},
   "outputs": [],
   "source": []
  }
 ],
 "metadata": {
  "kernelspec": {
   "display_name": "PythonData",
   "language": "python",
   "name": "pythondata"
  },
  "language_info": {
   "codemirror_mode": {
    "name": "ipython",
    "version": 3
   },
   "file_extension": ".py",
   "mimetype": "text/x-python",
   "name": "python",
   "nbconvert_exporter": "python",
   "pygments_lexer": "ipython3",
   "version": "3.9.7"
  }
 },
 "nbformat": 4,
 "nbformat_minor": 5
}
